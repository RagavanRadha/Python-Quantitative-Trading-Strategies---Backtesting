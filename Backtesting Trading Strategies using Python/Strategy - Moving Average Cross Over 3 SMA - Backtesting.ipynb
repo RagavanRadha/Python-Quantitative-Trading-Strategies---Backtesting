{
 "cells": [
  {
   "cell_type": "markdown",
   "id": "8ded2933",
   "metadata": {},
   "source": [
    "# Simple Moving Average Cross Over Strategy - 3 SMA's"
   ]
  },
  {
   "cell_type": "markdown",
   "id": "03a7e92d",
   "metadata": {},
   "source": [
    "- Compute three moving averages of 20, 40, and 80.\n",
    "- Go long when the price crosses above all three moving averages.\n",
    "- Exit the long position when the price crosses below any of the three moving averages.\n",
    "- Go short when the price crosses below all three moving averages.\n",
    "- Exit the short position when the price crosses above any of the three moving averages.\n",
    "- Optional: Optimize all three moving averages"
   ]
  },
  {
   "cell_type": "markdown",
   "id": "a8371119",
   "metadata": {},
   "source": [
    "Import the required libraries"
   ]
  },
  {
   "cell_type": "code",
   "execution_count": null,
   "id": "d685b637",
   "metadata": {},
   "outputs": [],
   "source": [
    "import pandas as pd\n",
    "import numpy as np\n",
    "import yfinance as yf\n",
    "import matplotlib.pyplot as plt\n",
    "import warnings\n",
    "\n",
    "warnings.filterwarnings('ignore')"
   ]
  },
  {
   "cell_type": "code",
   "execution_count": null,
   "id": "f3bc4d4b",
   "metadata": {},
   "outputs": [],
   "source": [
    "# Create class\n",
    "class backtest_cross_over:\n",
    "    \n",
    "    # Create object attributes and methods\n",
    "    def __init__(self,ticker,start,end,sma,mma,lma):\n",
    "        self.ticker = ticker\n",
    "        self.start = start\n",
    "        self.end = end\n",
    "        self.sma = sma\n",
    "        self.mma = mma\n",
    "        self.lma = lma\n",
    "        \n",
    "        self.fetch_data()\n",
    "        self.indicators()\n",
    "        self.signals()\n",
    "        self.positions()\n",
    "        self.returns()\n",
    "    \n",
    "    #To fetch the data from yahoo finance\n",
    "    def fetch_data(self):\n",
    "        self.df = yf.download(self.ticker,self.start,self.end)\n",
    "     \n",
    "    # To compute the indicators necessary for the Strategy\n",
    "    def indicators(self):\n",
    "        self.df['sma'] = self.df['Adj Close'].rolling(window=self.sma,center=False).mean()\n",
    "        self.df['mma'] = self.df['Adj Close'].rolling(window=self.mma,center=False).mean()\n",
    "        self.df['lma'] = self.df['Adj Close'].rolling(window=self.lma,center=False).mean()\n",
    "        \n",
    "    # To generate the long and short trading signals    \n",
    "    def signals(self):\n",
    "        self.df['signal'] = np.where((self.df['Adj Close'] > self.df['sma']) & (self.df['Adj Close'] > self.df['mma']) & (self.df['Adj Close'] > self.df['lma']),1,0)\n",
    "        self.df['signal'] = np.where((self.df['Adj Close'] < self.df['sma']) & (self.df['Adj Close'] > self.df['lma']),0,self.df['signal'])\n",
    "\n",
    "        self.df['signal'] = np.where((self.df['Adj Close'] < self.df['sma']) & (self.df['Adj Close'] < self.df['mma']) & (self.df['Adj Close'] < self.df['lma']),-1,self.df['signal'])\n",
    "        self.df['signal'] = np.where((self.df['Adj Close'] > self.df['sma']) & (self.df['Adj Close'] < self.df['lma']),0,self.df['signal'])\n",
    "    \n",
    "    #To generate the positions\n",
    "    def positions(self):\n",
    "        self.df['positions'] = self.df['signal'].shift(1)\n",
    "    \n",
    "    # To generate the Buy & Hold and Strategy returns\n",
    "    def returns(self):\n",
    "        self.df['BnH returns'] = self.df['Adj Close'].pct_change()\n",
    "        self.df['Strategy Returns'] = self.df['BnH returns']*self.df['positions']\n",
    "        BnH = (self.df['BnH returns']+1).cumprod()[-1]\n",
    "        Strat_returns = (self.df['Strategy Returns']+1).cumprod()[-1]\n",
    "        print('Total Strategy Returns:',(self.df['Strategy Returns']+1).cumprod()[-1])\n",
    "        return Strat_returns"
   ]
  },
  {
   "cell_type": "code",
   "execution_count": null,
   "id": "40c36d9a",
   "metadata": {},
   "outputs": [],
   "source": [
    "#Fix the backtesting period of 3 years\n",
    "end = pd.datetime.now().date()\n",
    "start = end-pd.Timedelta(days=3*252)"
   ]
  },
  {
   "cell_type": "code",
   "execution_count": null,
   "id": "c35d65e7",
   "metadata": {},
   "outputs": [],
   "source": [
    "#To generate the returns and validate by optimising the moving average parameters across different indices\n",
    "\n",
    "sma_list = range(10,30,5)\n",
    "mma_list = range(30,75,10)\n",
    "lma_list = range(80,160,10)\n",
    "indice_list=['^NSEI','SPY','HSI','^CNXIT','^NSEBANK','^HSI','^GSPC']\n",
    "\n",
    "index_name =[]\n",
    "sma=[]\n",
    "mma=[]\n",
    "lma=[]\n",
    "\n",
    "net_returns=[]\n",
    "\n",
    "for i in lma_list:\n",
    "    for j in mma_list:\n",
    "        for k in sma_list:\n",
    "            for l in indice_list:\n",
    "                print('For',i,j,k,l)\n",
    "                a = backtest_cross_over(l, start1, end1, i, j, k)\n",
    "                lma.append(i)\n",
    "                mma.append(j)\n",
    "                sma.append(k)\n",
    "                index_name.append(l)\n",
    "                net_returns.append(a.returns())"
   ]
  },
  {
   "cell_type": "code",
   "execution_count": null,
   "id": "c35ca3eb",
   "metadata": {},
   "outputs": [],
   "source": [
    "#Convert the results into the dataframe\n",
    "results = pd.DataFrame({'long_ma':lma,'med_ma': mma,'short_ma':sma,'index' :index_name,'net_returns':net_returns})\n"
   ]
  },
  {
   "cell_type": "code",
   "execution_count": null,
   "id": "12af9fae",
   "metadata": {
    "scrolled": true
   },
   "outputs": [],
   "source": [
    "#To identify the optimum parameters generating greater returns\n",
    "results.sort_values(by='net_returns',ascending=False,inplace=True)"
   ]
  },
  {
   "cell_type": "code",
   "execution_count": null,
   "id": "3807bc6a",
   "metadata": {},
   "outputs": [],
   "source": [
    "results.head(20)"
   ]
  },
  {
   "cell_type": "markdown",
   "id": "19c7c5c3",
   "metadata": {},
   "source": [
    "As per the above table, CNXIT generates good and consistent returns with the moving average of 10,70,120 "
   ]
  },
  {
   "cell_type": "markdown",
   "id": "feb6197d",
   "metadata": {},
   "source": [
    "# Exponential Moving Average Cross Over"
   ]
  },
  {
   "cell_type": "markdown",
   "id": "b5686d6c",
   "metadata": {},
   "source": [
    "Try Exponential moving average instead of Simple moving average to validate the strategy. We can reuse the same parent class and create child class only to replace for EMA calculation"
   ]
  },
  {
   "cell_type": "code",
   "execution_count": null,
   "id": "6a97992b",
   "metadata": {},
   "outputs": [],
   "source": [
    "class backtest_EMA_cross_over(backtest_cross_over):\n",
    "    \n",
    "    def indicators(self):\n",
    "        self.df['sma'] = self.df['Adj Close'].ewm(span=self.sma,adjust=False).mean()\n",
    "        self.df['mma'] = self.df['Adj Close'].ewm(span=self.mma,adjust=False).mean()\n",
    "        self.df['lma'] = self.df['Adj Close'].ewm(span=self.lma,adjust=False).mean()\n",
    "        "
   ]
  },
  {
   "cell_type": "markdown",
   "id": "dad6c6e1",
   "metadata": {},
   "source": [
    "Lets try CNXIT with exponential moving average of same parameters to check the returns are higher"
   ]
  },
  {
   "cell_type": "code",
   "execution_count": null,
   "id": "ed329563",
   "metadata": {},
   "outputs": [],
   "source": [
    "IT_Nifty_EMA_Cross_over = backtest_EMA_cross_over('^CNXIT',start1,end1,10,70,120)"
   ]
  },
  {
   "cell_type": "code",
   "execution_count": null,
   "id": "55f7793f",
   "metadata": {},
   "outputs": [],
   "source": [
    "IT_Nifty_SMA_Cross_over = backtest_cross_over('^CNXIT',start1,end1,10,70,120)"
   ]
  },
  {
   "cell_type": "code",
   "execution_count": null,
   "id": "73813bcc",
   "metadata": {},
   "outputs": [],
   "source": []
  }
 ],
 "metadata": {
  "kernelspec": {
   "display_name": "Python 3",
   "language": "python",
   "name": "python3"
  },
  "language_info": {
   "codemirror_mode": {
    "name": "ipython",
    "version": 3
   },
   "file_extension": ".py",
   "mimetype": "text/x-python",
   "name": "python",
   "nbconvert_exporter": "python",
   "pygments_lexer": "ipython3",
   "version": "3.8.8"
  }
 },
 "nbformat": 4,
 "nbformat_minor": 5
}
