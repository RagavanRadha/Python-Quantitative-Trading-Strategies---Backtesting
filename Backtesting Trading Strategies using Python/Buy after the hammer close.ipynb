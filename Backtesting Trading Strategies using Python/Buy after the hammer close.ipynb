{
 "cells": [
  {
   "cell_type": "code",
   "execution_count": 1,
   "id": "1d58cb47",
   "metadata": {},
   "outputs": [],
   "source": [
    "import pandas as pd\n",
    "import numpy as np\n",
    "import yfinance as yf\n",
    "import warnings\n",
    "\n",
    "warnings.filterwarnings('ignore')"
   ]
  },
  {
   "cell_type": "code",
   "execution_count": null,
   "id": "9efe3549",
   "metadata": {},
   "outputs": [],
   "source": [
    "class backtest_buy_after_hammer:\n",
    "    \n",
    "    def __init(self,ticker,start,end,day_low_range,hammer_pct,position_close_range):\n",
    "        \n",
    "        self.ticker = ticker\n",
    "        self.start = start\n",
    "        self.end = end\n",
    "        self.day_low_range = day_low_range\n",
    "        self.hammer_pct = hammer_pct\n",
    "        self.position_close_range = position_close_range\n",
    "        \n",
    "        self.fetch_data()\n",
    "        self.indicators()\n",
    "        self.signals()\n",
    "        self.positions()\n",
    "        self.returns()\n",
    "        \n",
    "    def fetch_data(self):\n",
    "        self.df = yf.download(self.ticker,self.start,self.end)\n",
    "        \n",
    "    def indicators(self):\n",
    "        self.df['hammer_form'] = np.where(self.df['Low'] - self.df['High']) > (3*(self.df['Adj']))"
   ]
  },
  {
   "cell_type": "code",
   "execution_count": 2,
   "id": "01505471",
   "metadata": {},
   "outputs": [
    {
     "name": "stdout",
     "output_type": "stream",
     "text": [
      "[*********************100%***********************]  1 of 1 completed\n"
     ]
    },
    {
     "data": {
      "text/html": [
       "<div>\n",
       "<style scoped>\n",
       "    .dataframe tbody tr th:only-of-type {\n",
       "        vertical-align: middle;\n",
       "    }\n",
       "\n",
       "    .dataframe tbody tr th {\n",
       "        vertical-align: top;\n",
       "    }\n",
       "\n",
       "    .dataframe thead th {\n",
       "        text-align: right;\n",
       "    }\n",
       "</style>\n",
       "<table border=\"1\" class=\"dataframe\">\n",
       "  <thead>\n",
       "    <tr style=\"text-align: right;\">\n",
       "      <th></th>\n",
       "      <th>Open</th>\n",
       "      <th>High</th>\n",
       "      <th>Low</th>\n",
       "      <th>Close</th>\n",
       "      <th>Adj Close</th>\n",
       "      <th>Volume</th>\n",
       "    </tr>\n",
       "    <tr>\n",
       "      <th>Date</th>\n",
       "      <th></th>\n",
       "      <th></th>\n",
       "      <th></th>\n",
       "      <th></th>\n",
       "      <th></th>\n",
       "      <th></th>\n",
       "    </tr>\n",
       "  </thead>\n",
       "  <tbody>\n",
       "    <tr>\n",
       "      <th>2019-01-02</th>\n",
       "      <td>10868.849609</td>\n",
       "      <td>10895.349609</td>\n",
       "      <td>10735.049805</td>\n",
       "      <td>10792.500000</td>\n",
       "      <td>10792.500000</td>\n",
       "      <td>309700</td>\n",
       "    </tr>\n",
       "    <tr>\n",
       "      <th>2019-01-03</th>\n",
       "      <td>10796.799805</td>\n",
       "      <td>10814.049805</td>\n",
       "      <td>10661.250000</td>\n",
       "      <td>10672.250000</td>\n",
       "      <td>10672.250000</td>\n",
       "      <td>286200</td>\n",
       "    </tr>\n",
       "    <tr>\n",
       "      <th>2019-01-04</th>\n",
       "      <td>10699.700195</td>\n",
       "      <td>10741.049805</td>\n",
       "      <td>10628.650391</td>\n",
       "      <td>10727.349609</td>\n",
       "      <td>10727.349609</td>\n",
       "      <td>296600</td>\n",
       "    </tr>\n",
       "    <tr>\n",
       "      <th>2019-01-07</th>\n",
       "      <td>10804.849609</td>\n",
       "      <td>10835.950195</td>\n",
       "      <td>10750.150391</td>\n",
       "      <td>10771.799805</td>\n",
       "      <td>10771.799805</td>\n",
       "      <td>269400</td>\n",
       "    </tr>\n",
       "    <tr>\n",
       "      <th>2019-01-08</th>\n",
       "      <td>10786.250000</td>\n",
       "      <td>10818.450195</td>\n",
       "      <td>10733.250000</td>\n",
       "      <td>10802.150391</td>\n",
       "      <td>10802.150391</td>\n",
       "      <td>277700</td>\n",
       "    </tr>\n",
       "  </tbody>\n",
       "</table>\n",
       "</div>"
      ],
      "text/plain": [
       "                    Open          High           Low         Close  \\\n",
       "Date                                                                 \n",
       "2019-01-02  10868.849609  10895.349609  10735.049805  10792.500000   \n",
       "2019-01-03  10796.799805  10814.049805  10661.250000  10672.250000   \n",
       "2019-01-04  10699.700195  10741.049805  10628.650391  10727.349609   \n",
       "2019-01-07  10804.849609  10835.950195  10750.150391  10771.799805   \n",
       "2019-01-08  10786.250000  10818.450195  10733.250000  10802.150391   \n",
       "\n",
       "               Adj Close  Volume  \n",
       "Date                              \n",
       "2019-01-02  10792.500000  309700  \n",
       "2019-01-03  10672.250000  286200  \n",
       "2019-01-04  10727.349609  296600  \n",
       "2019-01-07  10771.799805  269400  \n",
       "2019-01-08  10802.150391  277700  "
      ]
     },
     "execution_count": 2,
     "metadata": {},
     "output_type": "execute_result"
    }
   ],
   "source": [
    "df = yf.download('^NSEI','2019-01-01','2021-01-01')\n",
    "df1=df.copy()\n",
    "df1.head()"
   ]
  },
  {
   "cell_type": "code",
   "execution_count": null,
   "id": "a00a13ce",
   "metadata": {},
   "outputs": [],
   "source": [
    "df1['hammer_form'] = np.where((df1['Low'] - df1['High']) > (3*((df1['Adj Close'] - df1['Open']).abs()))"
   ]
  }
 ],
 "metadata": {
  "kernelspec": {
   "display_name": "Python 3",
   "language": "python",
   "name": "python3"
  },
  "language_info": {
   "codemirror_mode": {
    "name": "ipython",
    "version": 3
   },
   "file_extension": ".py",
   "mimetype": "text/x-python",
   "name": "python",
   "nbconvert_exporter": "python",
   "pygments_lexer": "ipython3",
   "version": "3.8.8"
  }
 },
 "nbformat": 4,
 "nbformat_minor": 5
}
