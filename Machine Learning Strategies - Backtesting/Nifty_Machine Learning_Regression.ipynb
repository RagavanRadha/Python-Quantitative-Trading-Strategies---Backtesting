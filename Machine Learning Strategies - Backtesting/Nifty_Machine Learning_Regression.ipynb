{
 "cells": [
  {
   "cell_type": "code",
   "execution_count": 1,
   "id": "60cec570",
   "metadata": {},
   "outputs": [],
   "source": [
    "import pandas as pd\n",
    "import numpy as np\n",
    "import yfinance as yf\n",
    "import talib\n",
    "from sklearn.model_selection import train_test_split\n",
    "from sklearn.ensemble import GradientBoostingClassifier,RandomForestClassifier,GradientBoostingRegressor\n",
    "from sklearn.tree import DecisionTreeRegressor\n",
    "from sklearn.metrics import r2_score,mean_absolute_error,mean_squared_error,mean_absolute_percentage_error"
   ]
  },
  {
   "cell_type": "code",
   "execution_count": 2,
   "id": "e2f41034",
   "metadata": {},
   "outputs": [
    {
     "name": "stderr",
     "output_type": "stream",
     "text": [
      "<ipython-input-2-2ca4f16373c0>:1: FutureWarning: The pandas.datetime class is deprecated and will be removed from pandas in a future version. Import from datetime module instead.\n",
      "  end = pd.datetime.now().date() - pd.Timedelta(days = 1*252)\n"
     ]
    }
   ],
   "source": [
    "end = pd.datetime.now().date() - pd.Timedelta(days = 1*252)\n",
    "start = end - pd.Timedelta(days = ((12*252)+30))"
   ]
  },
  {
   "cell_type": "code",
   "execution_count": 3,
   "id": "7b8449c3",
   "metadata": {},
   "outputs": [],
   "source": [
    "class backtest_ML:\n",
    "    \n",
    "    def __init__(self,ticker,start,end):\n",
    "          \n",
    "        self.ticker = ticker\n",
    "        self.start = start\n",
    "        self.end = end\n",
    "    \n",
    "        self.fetch_data()\n",
    "        self.process_data()\n",
    "        self.train_test_split()\n",
    "        self.model()\n",
    "        self.predict()\n",
    "        self.model_performance()\n",
    "    \n",
    "    def fetch_data(self):\n",
    "        self.df = yf.download(self.ticker,self.start,self.end)\n",
    "        self.df1=yf.download(\"^VIX\",self.start,self.end)\n",
    "    def process_data(self):\n",
    "        \n",
    "        self.df['Avg Price'] = talib.AVGPRICE(self.df['Open'].shift(1),self.df['High'].shift(1),self.df['Low'].shift(1),self.df['Adj Close'].shift(1))\n",
    "        self.df['Gap prev close'] = np.log((self.df['Open'])/(self.df['Adj Close'].shift(1)))\n",
    "        self.df['Gap prev Avg price'] = np.log((self.df['Open'])/(self.df['Avg Price'].shift(1)))\n",
    "        self.df['MA_1'] = self.df['Adj Close'].shift(1).rolling(window=5,center=False).mean() \n",
    "        self.df['VIX'] = self.df1['Open'] \n",
    "        self.df['RSI'] =talib.RSI(self.df['Adj Close'].shift(1),timeperiod = 5)\n",
    "        self.df['Momentum'] =talib.MOM(self.df['Adj Close'].shift(1),timeperiod=5)\n",
    "        self.df['MFI'] = talib.MFI(self.df['High'].shift(1),self.df['Low'],self.df['Adj Close'],self.df['Volume'],timeperiod=5)\n",
    "        self.df['OBV'] = talib.OBV(self.df['Volume'].shift(1),self.df['Adj Close'].shift(1))\n",
    "        self.df['ATR'] = talib.ATR(self.df['High'].shift(1),self.df['Low'].shift(1),self.df['Adj Close'].shift(1),timeperiod=5)\n",
    "        self.df['HB Signal'] = talib.HT_DCPERIOD(self.df['Adj Close'])\n",
    "        self.df['Correl'] = talib.CORREL(self.df['High'].shift(1),self.df['Low'].shift(1),timeperiod=5) \n",
    "        self.df['Daily Returns'] =np.log(self.df['Adj Close']/self.df['Adj Close'].shift(1))\n",
    "        self.df['Three Line Strike'] = talib.CDL3LINESTRIKE(self.df['Open'].shift(1),self.df['High'].shift(1),self.df['Low'].shift(1),self.df['Adj Close'].shift(1))\n",
    "        self.df = self.df[(self.df['Daily Returns'] < 0.02) & (self.df['Daily Returns'] > -0.02)]\n",
    "        self.df.dropna(inplace=True)\n",
    "        \n",
    "    def train_test_split(self):\n",
    "        self.X = self.df.iloc[:,[6,7,8,9,10,11,12,13,14,15,16,17,19]]\n",
    "        self.y = self.df['Adj Close']\n",
    "        self.X_train,self.X_test,self.y_train,self.y_test = train_test_split(self.X,self.y,test_size=0.3,random_state=200)\n",
    "        \n",
    "    def model(self):\n",
    "        self.mod = GradientBoostingRegressor(n_estimators=160)\n",
    "        self.mod.fit(self.X_train,self.y_train)\n",
    "        \n",
    "    def predict(self):\n",
    "        self.y_pred_test = self.mod.predict(self.X_test)\n",
    "        self.y_pred_train = self.mod.predict(self.X_train)\n",
    "        \n",
    "    def model_performance(self):\n",
    "        \n",
    "        Score_Train = self.mod.score(self.X_train,self.y_train)\n",
    "        Score_Test = self.mod.score(self.X_test,self.y_test)\n",
    "        R2_score_Train = r2_score(self.y_train,self.y_pred_train)\n",
    "        R2_score_Test = r2_score(self.y_test,self.y_pred_test)\n",
    "        MAE_Train = mean_absolute_error(self.y_train,self.y_pred_train)\n",
    "        MAE_Test = mean_absolute_error(self.y_test,self.y_pred_test)\n",
    "        MSE_Train = mean_squared_error(self.y_train,self.y_pred_train)\n",
    "        MSE_Test = mean_squared_error(self.y_test,self.y_pred_test)\n",
    "        MAPE_Train = mean_absolute_percentage_error(self.y_train,self.y_pred_train)\n",
    "        MAPE_Test = mean_absolute_percentage_error(self.y_test,self.y_pred_test)\n",
    "        \n",
    "        return (Score_Train,Score_Test,R2_score_Train,R2_score_Test,MAE_Train,MAE_Test,MSE_Train,\n",
    "        MSE_Test,MAPE_Train,MAPE_Test)"
   ]
  },
  {
   "cell_type": "code",
   "execution_count": 4,
   "id": "c06dc643",
   "metadata": {},
   "outputs": [
    {
     "name": "stdout",
     "output_type": "stream",
     "text": [
      "[*********************100%***********************]  1 of 1 completed\n",
      "[*********************100%***********************]  1 of 1 completed\n"
     ]
    }
   ],
   "source": [
    "\n",
    "a=[]\n",
    "\n",
    "Nifty_backtest_ML = backtest_ML(\"TCS.NS\",start,end)\n",
    "a.append(Nifty_backtest_ML.model_performance())\n",
    "Score_Train = [a[0] for a in a]\n",
    "Score_Test = [a[1] for a in a]\n",
    "R2_score_Train = [a[2] for a in a]\n",
    "R2_score_Test = [a[3] for a in a]\n",
    "MAE_Train = [a[4] for a in a]\n",
    "MAE_Test = [a[5] for a in a]\n",
    "MSE_Train = [a[6] for a in a]\n",
    "MSE_Test = [a[7] for a in a]\n",
    "MAPE_Train = [a[8] for a in a]\n",
    "MAPE_Test = [a[9] for a in a]"
   ]
  },
  {
   "cell_type": "code",
   "execution_count": 5,
   "id": "22c584cd",
   "metadata": {},
   "outputs": [
    {
     "data": {
      "text/html": [
       "<div>\n",
       "<style scoped>\n",
       "    .dataframe tbody tr th:only-of-type {\n",
       "        vertical-align: middle;\n",
       "    }\n",
       "\n",
       "    .dataframe tbody tr th {\n",
       "        vertical-align: top;\n",
       "    }\n",
       "\n",
       "    .dataframe thead th {\n",
       "        text-align: right;\n",
       "    }\n",
       "</style>\n",
       "<table border=\"1\" class=\"dataframe\">\n",
       "  <thead>\n",
       "    <tr style=\"text-align: right;\">\n",
       "      <th></th>\n",
       "      <th>Score_Train</th>\n",
       "      <th>Score_Test</th>\n",
       "      <th>R2_score_Train</th>\n",
       "      <th>R2_score_Test</th>\n",
       "      <th>MAE_Train</th>\n",
       "      <th>MAE_Test</th>\n",
       "      <th>MSE_Train</th>\n",
       "      <th>MSE_Test</th>\n",
       "      <th>MAPE_Train</th>\n",
       "      <th>MAPE_Test</th>\n",
       "    </tr>\n",
       "  </thead>\n",
       "  <tbody>\n",
       "    <tr>\n",
       "      <th>0</th>\n",
       "      <td>0.999773</td>\n",
       "      <td>0.998965</td>\n",
       "      <td>0.999773</td>\n",
       "      <td>0.998965</td>\n",
       "      <td>7.243105</td>\n",
       "      <td>14.152401</td>\n",
       "      <td>90.632221</td>\n",
       "      <td>402.034511</td>\n",
       "      <td>0.005156</td>\n",
       "      <td>0.009612</td>\n",
       "    </tr>\n",
       "  </tbody>\n",
       "</table>\n",
       "</div>"
      ],
      "text/plain": [
       "   Score_Train  Score_Test  R2_score_Train  R2_score_Test  MAE_Train  \\\n",
       "0     0.999773    0.998965        0.999773       0.998965   7.243105   \n",
       "\n",
       "    MAE_Test  MSE_Train    MSE_Test  MAPE_Train  MAPE_Test  \n",
       "0  14.152401  90.632221  402.034511    0.005156   0.009612  "
      ]
     },
     "execution_count": 5,
     "metadata": {},
     "output_type": "execute_result"
    }
   ],
   "source": [
    "Results = pd.DataFrame({'Score_Train':Score_Train,'Score_Test':Score_Test,'R2_score_Train':R2_score_Train,'R2_score_Test'\n",
    "                       :R2_score_Test,'MAE_Train':MAE_Train,'MAE_Test':MAE_Test,'MSE_Train':MSE_Train,\n",
    "                       'MSE_Test':MSE_Test,'MAPE_Train':MAPE_Train,'MAPE_Test':MAPE_Test})\n",
    "\n",
    "Results"
   ]
  },
  {
   "cell_type": "code",
   "execution_count": 6,
   "id": "603e88a6",
   "metadata": {},
   "outputs": [
    {
     "data": {
      "text/plain": [
       "array([6.79654165e-01, 2.19476933e-03, 1.82823434e-04, 2.20085228e-01,\n",
       "       1.42648352e-05, 5.71657677e-05, 1.62144177e-05, 1.04012724e-04,\n",
       "       9.75735826e-02, 8.14997411e-05, 1.44028540e-05, 2.18718540e-05,\n",
       "       0.00000000e+00])"
      ]
     },
     "execution_count": 6,
     "metadata": {},
     "output_type": "execute_result"
    }
   ],
   "source": [
    "Nifty_backtest_ML.mod.feature_importances_"
   ]
  },
  {
   "cell_type": "code",
   "execution_count": 7,
   "id": "60d3bc3a",
   "metadata": {},
   "outputs": [
    {
     "data": {
      "text/plain": [
       "Avg Price             0.679654\n",
       "MA_1                  0.220085\n",
       "OBV                   0.097574\n",
       "Gap prev close        0.002195\n",
       "Gap prev Avg price    0.000183\n",
       "MFI                   0.000104\n",
       "ATR                   0.000081\n",
       "RSI                   0.000057\n",
       "Correl                0.000022\n",
       "Momentum              0.000016\n",
       "HB Signal             0.000014\n",
       "VIX                   0.000014\n",
       "Three Line Strike     0.000000\n",
       "dtype: float64"
      ]
     },
     "execution_count": 7,
     "metadata": {},
     "output_type": "execute_result"
    }
   ],
   "source": [
    "feature_imp=pd.Series(Nifty_backtest_ML.mod.feature_importances_,index=Nifty_backtest_ML.X.columns)\n",
    "feature_imp.sort_values(ascending=False)"
   ]
  },
  {
   "cell_type": "code",
   "execution_count": 8,
   "id": "af4df9fa",
   "metadata": {},
   "outputs": [
    {
     "ename": "NameError",
     "evalue": "name 'self' is not defined",
     "output_type": "error",
     "traceback": [
      "\u001b[1;31m---------------------------------------------------------------------------\u001b[0m",
      "\u001b[1;31mNameError\u001b[0m                                 Traceback (most recent call last)",
      "\u001b[1;32m<ipython-input-8-f8c7828bdcea>\u001b[0m in \u001b[0;36m<module>\u001b[1;34m\u001b[0m\n\u001b[0;32m      1\u001b[0m \u001b[1;31m## Features in back up\u001b[0m\u001b[1;33m\u001b[0m\u001b[1;33m\u001b[0m\u001b[1;33m\u001b[0m\u001b[0m\n\u001b[0;32m      2\u001b[0m \u001b[1;33m\u001b[0m\u001b[0m\n\u001b[1;32m----> 3\u001b[1;33m \u001b[0mself\u001b[0m\u001b[1;33m.\u001b[0m\u001b[0mdf\u001b[0m\u001b[1;33m[\u001b[0m\u001b[1;34m'Prev day'\u001b[0m\u001b[1;33m]\u001b[0m \u001b[1;33m=\u001b[0m \u001b[0mnp\u001b[0m\u001b[1;33m.\u001b[0m\u001b[0mlog\u001b[0m\u001b[1;33m(\u001b[0m\u001b[1;33m(\u001b[0m\u001b[0mself\u001b[0m\u001b[1;33m.\u001b[0m\u001b[0mdf\u001b[0m\u001b[1;33m[\u001b[0m\u001b[1;34m'Adj Close'\u001b[0m\u001b[1;33m]\u001b[0m\u001b[1;33m.\u001b[0m\u001b[0mshift\u001b[0m\u001b[1;33m(\u001b[0m\u001b[1;36m1\u001b[0m\u001b[1;33m)\u001b[0m\u001b[1;33m)\u001b[0m\u001b[1;33m/\u001b[0m\u001b[1;33m(\u001b[0m\u001b[0mself\u001b[0m\u001b[1;33m.\u001b[0m\u001b[0mdf\u001b[0m\u001b[1;33m[\u001b[0m\u001b[1;34m'Adj Close'\u001b[0m\u001b[1;33m]\u001b[0m\u001b[1;33m.\u001b[0m\u001b[0mshift\u001b[0m\u001b[1;33m(\u001b[0m\u001b[1;36m2\u001b[0m\u001b[1;33m)\u001b[0m\u001b[1;33m)\u001b[0m\u001b[1;33m)\u001b[0m\u001b[1;33m\u001b[0m\u001b[1;33m\u001b[0m\u001b[0m\n\u001b[0m\u001b[0;32m      4\u001b[0m \u001b[0mself\u001b[0m\u001b[1;33m.\u001b[0m\u001b[0mdf\u001b[0m\u001b[1;33m[\u001b[0m\u001b[1;34m'2 Days Low'\u001b[0m\u001b[1;33m]\u001b[0m \u001b[1;33m=\u001b[0m \u001b[0mnp\u001b[0m\u001b[1;33m.\u001b[0m\u001b[0mwhere\u001b[0m\u001b[1;33m(\u001b[0m\u001b[1;33m(\u001b[0m\u001b[0mself\u001b[0m\u001b[1;33m.\u001b[0m\u001b[0mdf\u001b[0m\u001b[1;33m[\u001b[0m\u001b[1;34m'Daily Returns'\u001b[0m\u001b[1;33m]\u001b[0m\u001b[1;33m.\u001b[0m\u001b[0mshift\u001b[0m\u001b[1;33m(\u001b[0m\u001b[1;36m1\u001b[0m\u001b[1;33m)\u001b[0m \u001b[1;33m<\u001b[0m \u001b[1;36m0\u001b[0m\u001b[1;33m)\u001b[0m \u001b[1;33m&\u001b[0m \u001b[1;33m(\u001b[0m\u001b[0mself\u001b[0m\u001b[1;33m.\u001b[0m\u001b[0mdf\u001b[0m\u001b[1;33m[\u001b[0m\u001b[1;34m'Daily Returns'\u001b[0m\u001b[1;33m]\u001b[0m\u001b[1;33m.\u001b[0m\u001b[0mshift\u001b[0m\u001b[1;33m(\u001b[0m\u001b[1;36m2\u001b[0m\u001b[1;33m)\u001b[0m \u001b[1;33m<\u001b[0m \u001b[1;36m0\u001b[0m\u001b[1;33m)\u001b[0m\u001b[1;33m,\u001b[0m\u001b[1;36m1\u001b[0m\u001b[1;33m,\u001b[0m\u001b[1;36m0\u001b[0m\u001b[1;33m)\u001b[0m\u001b[1;33m\u001b[0m\u001b[1;33m\u001b[0m\u001b[0m\n\u001b[0;32m      5\u001b[0m \u001b[0mself\u001b[0m\u001b[1;33m.\u001b[0m\u001b[0mdf\u001b[0m\u001b[1;33m[\u001b[0m\u001b[1;34m'2 Days High'\u001b[0m\u001b[1;33m]\u001b[0m \u001b[1;33m=\u001b[0m \u001b[0mnp\u001b[0m\u001b[1;33m.\u001b[0m\u001b[0mwhere\u001b[0m\u001b[1;33m(\u001b[0m\u001b[1;33m(\u001b[0m\u001b[0mself\u001b[0m\u001b[1;33m.\u001b[0m\u001b[0mdf\u001b[0m\u001b[1;33m[\u001b[0m\u001b[1;34m'Daily Returns'\u001b[0m\u001b[1;33m]\u001b[0m\u001b[1;33m.\u001b[0m\u001b[0mshift\u001b[0m\u001b[1;33m(\u001b[0m\u001b[1;36m1\u001b[0m\u001b[1;33m)\u001b[0m \u001b[1;33m>\u001b[0m \u001b[1;36m0\u001b[0m\u001b[1;33m)\u001b[0m \u001b[1;33m&\u001b[0m \u001b[1;33m(\u001b[0m\u001b[0mself\u001b[0m\u001b[1;33m.\u001b[0m\u001b[0mdf\u001b[0m\u001b[1;33m[\u001b[0m\u001b[1;34m'Daily Returns'\u001b[0m\u001b[1;33m]\u001b[0m\u001b[1;33m.\u001b[0m\u001b[0mshift\u001b[0m\u001b[1;33m(\u001b[0m\u001b[1;36m2\u001b[0m\u001b[1;33m)\u001b[0m \u001b[1;33m>\u001b[0m \u001b[1;36m0\u001b[0m\u001b[1;33m)\u001b[0m\u001b[1;33m,\u001b[0m\u001b[1;36m1\u001b[0m\u001b[1;33m,\u001b[0m\u001b[1;36m0\u001b[0m\u001b[1;33m)\u001b[0m\u001b[1;33m\u001b[0m\u001b[1;33m\u001b[0m\u001b[0m\n",
      "\u001b[1;31mNameError\u001b[0m: name 'self' is not defined"
     ]
    }
   ],
   "source": [
    "## Features in back up\n",
    "\n",
    "self.df['Prev day'] = np.log((self.df['Adj Close'].shift(1))/(self.df['Adj Close'].shift(2)))\n",
    "self.df['2 Days Low'] = np.where((self.df['Daily Returns'].shift(1) < 0) & (self.df['Daily Returns'].shift(2) < 0),1,0)\n",
    "self.df['2 Days High'] = np.where((self.df['Daily Returns'].shift(1) > 0) & (self.df['Daily Returns'].shift(2) > 0),1,0)\n",
    "self.df['Stdev_1']=self.df['Adj Close'].shift(1).rolling(window=3,center=False).std()\n",
    "self.df['Avg Price'] = talib.AVGPRICE(self.df['Open'].shift(1),self.df['High'].shift(1),self.df['Low'].shift(1),self.df['Adj Close'].shift(1))\n",
    "        "
   ]
  },
  {
   "cell_type": "code",
   "execution_count": null,
   "id": "3fae51fc",
   "metadata": {},
   "outputs": [],
   "source": [
    "Nifty_backtest_ML.X_train.corr()"
   ]
  },
  {
   "cell_type": "code",
   "execution_count": null,
   "id": "69869e26",
   "metadata": {},
   "outputs": [],
   "source": []
  }
 ],
 "metadata": {
  "kernelspec": {
   "display_name": "Python 3",
   "language": "python",
   "name": "python3"
  },
  "language_info": {
   "codemirror_mode": {
    "name": "ipython",
    "version": 3
   },
   "file_extension": ".py",
   "mimetype": "text/x-python",
   "name": "python",
   "nbconvert_exporter": "python",
   "pygments_lexer": "ipython3",
   "version": "3.8.8"
  }
 },
 "nbformat": 4,
 "nbformat_minor": 5
}
